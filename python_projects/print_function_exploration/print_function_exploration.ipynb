{
 "cells": [
  {
   "cell_type": "markdown",
   "metadata": {},
   "source": [
    "# Print Function Exploration\n",
    "\n",
    "#### The following programme investigates the different parameters that the print function can take.\n",
    "---"
   ]
  },
  {
   "cell_type": "markdown",
   "metadata": {},
   "source": [
    "## Object\n",
    "\n",
    "A parameter that the function takes."
   ]
  },
  {
   "cell_type": "code",
   "execution_count": null,
   "metadata": {},
   "outputs": [],
   "source": [
    "# The object parameter may be a simple string.\n",
    "print(\"Hello, World!\")\n",
    "\n",
    "# The object parameter may also be of a different type and then be converted to string before being outputted.\n",
    "print(0)"
   ]
  },
  {
   "cell_type": "markdown",
   "metadata": {},
   "source": [
    "## Separator\n",
    "\n",
    "The sep (separator) parameter specifies how to separate objects by adding the specific thing between each parameter.\n",
    "\n",
    "The default of this is a space (\" \")."
   ]
  },
  {
   "cell_type": "code",
   "execution_count": null,
   "metadata": {},
   "outputs": [],
   "source": [
    "# 1. Inputting nothing as the separator will concatenate all objects (\"Hello,World!\").\n",
    "print(\"Hello\", \",\", \"World\", \"!\", sep = \"\")\n",
    "\n",
    "# 2. Inputting a space as the separator will separate all objects with a space (\"Hello , World !\").\n",
    "print(\"Hello\", \",\", \"World\", \"!\", sep = \" \")\n",
    "\n",
    "# 3. Inputting a hyphen (-) as the separator will separate all objects with a hyphen (\"Hello-,-World-!\").\n",
    "print(\"Hello\", \",\", \"World\", \"!\", sep = \"-\")\n",
    "\n",
    "# Perhaps this is more practical.\n",
    "print(\"04\", \"03\", \"1958\", sep = \"-\")\n",
    "print(\"04\", \"03\", \"1958\", sep = \"/\")"
   ]
  },
  {
   "cell_type": "markdown",
   "metadata": {},
   "source": [
    "## End\n",
    "\n",
    "The end parameter specifies what should come at the end of the objects in the print function.\n",
    "\n",
    "The default of this is a new line (\"\\n\")."
   ]
  },
  {
   "cell_type": "code",
   "execution_count": null,
   "metadata": {},
   "outputs": [],
   "source": [
    "# 1. Inputting nothing as the end will replace the newline, so future print function outputs appear on the same line.\n",
    "print(\"Hello, World!\", end = \"\")\n",
    "print(\"Hello, World!\")\n",
    "\n",
    "# 2. Inputting something will simply add it to the end of those objects. A newline may also be added.\n",
    "print(\"personalemail\", end = \"@personaldomain.com\\n\")"
   ]
  },
  {
   "cell_type": "markdown",
   "metadata": {},
   "source": [
    "## File\n",
    "\n",
    "The file parameter allows for the specification of where the print function should send its output to.\n",
    "\n",
    "This is more complicated as it delves into file input/output (I/O), but it can be achieved in two steps:\n",
    "1. Opening the file in Python and giving permission to write within it.\n",
    "2. Specifying that the print() function should output to that file.\n",
    "\n",
    "The default is sys.stdout."
   ]
  },
  {
   "cell_type": "code",
   "execution_count": null,
   "metadata": {},
   "outputs": [],
   "source": [
    "# Assign the \"text_file\" variable to the now open .txt file, and allow for it to be written in and read from.\n",
    "text_file = open(\"text.txt\", \"w+\")\n",
    "\n",
    "# Print a string inside the text file.\n",
    "print(\"Hello, Text File!\", file = text_file)\n",
    "\n",
    "# Move the file pointer to the beginning of the file.\n",
    "text_file.seek(0)\n",
    "\n",
    "# Assign the contents of the text file to the \"text_content\" variable.\n",
    "text_content = text_file.read()\n",
    "\n",
    "# Print the contents of the text file.\n",
    "print(text_content)\n",
    "\n",
    "# Close the file to release system resources and minimise the chance of data corruption.\n",
    "text_file.close()"
   ]
  },
  {
   "cell_type": "markdown",
   "metadata": {},
   "source": [
    "## Flush\n",
    "\n",
    "The flush parameter allows the developer to manually choose when a buffered I/O stream is outputted. This is used in situations where you want to guarantee that something is outputted, regardless of the buffering process. It does not need to be used in most cases, but may sometimes prove valuable.\n",
    "\n",
    "The default is False.\n",
    "\n",
    "The following (modified) code is taken from a Stack Overflow post made by Kurt Bourbaki on December 4th, 2022, under the \"What does print()'s `flush` do?\" question. The webpage was accessed on December 29th, 2024."
   ]
  },
  {
   "cell_type": "code",
   "execution_count": null,
   "metadata": {},
   "outputs": [],
   "source": [
    "# Import the time module to use the sleep method, which will delay processing by a specified period of time.\n",
    "import time\n",
    "\n",
    "# No flush.\n",
    "for i in range(5):\n",
    "    print(i, end = \" \", flush = False)  # Print everything together at the end.\n",
    "    time.sleep(0.5)\n",
    "\n",
    "print(\"End (without flush).\")\n",
    "\n",
    "# Flush.\n",
    "for i in range(5):\n",
    "    print(i, end = \" \", flush = True)  # Print numbers as soon as they are generated.\n",
    "    time.sleep(0.5)\n",
    "\n",
    "print(\"End (with flush).\")"
   ]
  }
 ],
 "metadata": {
  "kernelspec": {
   "display_name": "base",
   "language": "python",
   "name": "python3"
  },
  "language_info": {
   "codemirror_mode": {
    "name": "ipython",
    "version": 3
   },
   "file_extension": ".py",
   "mimetype": "text/x-python",
   "name": "python",
   "nbconvert_exporter": "python",
   "pygments_lexer": "ipython3",
   "version": "3.11.9"
  }
 },
 "nbformat": 4,
 "nbformat_minor": 2
}
